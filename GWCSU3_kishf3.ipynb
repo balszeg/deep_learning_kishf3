{
  "nbformat": 4,
  "nbformat_minor": 0,
  "metadata": {
    "colab": {
      "name": "GWCSU3_kishf3.ipynb",
      "provenance": [],
      "toc_visible": true,
      "authorship_tag": "ABX9TyMTQWH4G1sGZfjmgZ6k5E7J",
      "include_colab_link": true
    },
    "kernelspec": {
      "name": "python3",
      "display_name": "Python 3"
    },
    "accelerator": "GPU"
  },
  "cells": [
    {
      "cell_type": "markdown",
      "metadata": {
        "id": "view-in-github",
        "colab_type": "text"
      },
      "source": [
        "<a href=\"https://colab.research.google.com/github/balszeg/deep_learning_kishf3/blob/main/GWCSU3_kishf3.ipynb\" target=\"_parent\"><img src=\"https://colab.research.google.com/assets/colab-badge.svg\" alt=\"Open In Colab\"/></a>"
      ]
    },
    {
      "cell_type": "markdown",
      "metadata": {
        "id": "EMwH_1AtJ5qp"
      },
      "source": [
        "## Weather forecast for Budapest average temperature with MLP ##\n",
        "\n"
      ]
    },
    {
      "cell_type": "markdown",
      "metadata": {
        "id": "xw-RO5LOdTqc"
      },
      "source": [
        "Google Drive mounting"
      ]
    },
    {
      "cell_type": "code",
      "metadata": {
        "id": "_lX8ZoMy9MxI",
        "outputId": "a2dda500-9f9f-4bdf-a052-8c7c41dd23ce",
        "colab": {
          "base_uri": "https://localhost:8080/",
          "height": 55
        }
      },
      "source": [
        "from google.colab import drive\n",
        "#Mounting the user's Google Drive, from where the program loads the input datas \n",
        "drive.mount('/content/drive')"
      ],
      "execution_count": 1,
      "outputs": [
        {
          "output_type": "stream",
          "text": [
            "Drive already mounted at /content/drive; to attempt to forcibly remount, call drive.mount(\"/content/drive\", force_remount=True).\n"
          ],
          "name": "stdout"
        }
      ]
    },
    {
      "cell_type": "code",
      "metadata": {
        "id": "0S71YpkMrXyR",
        "outputId": "876f0491-fd62-4405-92b9-a25b2aa3dbc7",
        "colab": {
          "base_uri": "https://localhost:8080/",
          "height": 35
        }
      },
      "source": [
        "#Setting the path for the uploaded csv file(s)\n",
        "#Highly recommended, that the user use the same directory structure, which stated here\n",
        "csv_path = \"content/drive/My Drive/datas\"\n",
        "%cd /content/drive/My\\ Drive/datas"
      ],
      "execution_count": 2,
      "outputs": [
        {
          "output_type": "stream",
          "text": [
            "/content/drive/My Drive/datas\n"
          ],
          "name": "stdout"
        }
      ]
    },
    {
      "cell_type": "code",
      "metadata": {
        "id": "EMBfC_FIlAjH"
      },
      "source": [
        "#Importing in the necessary libraries\n",
        "import numpy as np\n",
        "import pandas as pd\n",
        "import matplotlib.pyplot as plt\n",
        "import tensorflow as tf\n",
        "import os\n",
        "import csv\n",
        "from tensorflow import keras\n",
        "from pandas import read_csv"
      ],
      "execution_count": 3,
      "outputs": []
    },
    {
      "cell_type": "markdown",
      "metadata": {
        "id": "MgRwpcXtayfE"
      },
      "source": [
        "Uploading the dataset"
      ]
    },
    {
      "cell_type": "code",
      "metadata": {
        "id": "xMWAMZKxKgfq"
      },
      "source": [
        "#reading the CSV file\n",
        "#important to note, if the user want to use an own dataset, it should be renamed \n",
        "dataframe = read_csv('data2.csv', usecols=[0], engine='python')\n",
        "dataset = dataframe.values\n",
        "#converting multidimensional array to single dim\n",
        "data = dataset.flatten()\n",
        "raw_seq = data.tolist()"
      ],
      "execution_count": 4,
      "outputs": []
    },
    {
      "cell_type": "markdown",
      "metadata": {
        "id": "N8GH6jBaa2hr"
      },
      "source": [
        "Defining function for dataset splitting"
      ]
    },
    {
      "cell_type": "code",
      "metadata": {
        "id": "VfnBuswHYq_I"
      },
      "source": [
        "#split a univariate sequence into samples\n",
        "def split_sequence(sequence, n_steps):\n",
        " X, Y = list(), list()\n",
        " for i in range(len(sequence)):\n",
        "  # find the end of this pattern\n",
        "  end_ix = i + n_steps\n",
        "  # check if we are beyond the sequence\n",
        "  if end_ix > len(sequence)-1:\n",
        "   break\n",
        "  #input and output sample\n",
        "  seq_x, seq_y = sequence[i:end_ix], sequence[end_ix]\n",
        "  X.append(seq_x)\n",
        "  Y.append(seq_y)\n",
        " return np.array(X), np.array(Y)"
      ],
      "execution_count": 6,
      "outputs": []
    },
    {
      "cell_type": "markdown",
      "metadata": {
        "id": "WqaaNY0fatGT"
      },
      "source": [
        "Building the model"
      ]
    },
    {
      "cell_type": "code",
      "metadata": {
        "id": "Z2tORU9FalNY"
      },
      "source": [
        "from keras.models import Sequential\n",
        "from keras.layers import Dense\n",
        "\n",
        "#choose a number of time steps\n",
        "n_steps = 365\n",
        "#split into samples\n",
        "X, Y = split_sequence(raw_seq, n_steps)\n",
        "#define model\n",
        "model = Sequential()\n",
        "model.add(Dense(150, activation='relu', input_dim=n_steps))\n",
        "model.add(Dense(1))\n",
        "model.compile(optimizer='adam', loss='mse')"
      ],
      "execution_count": 10,
      "outputs": []
    },
    {
      "cell_type": "markdown",
      "metadata": {
        "id": "7tdu2qMMda87"
      },
      "source": [
        "Fitting the model"
      ]
    },
    {
      "cell_type": "code",
      "metadata": {
        "id": "dCiPIuYnarl1",
        "outputId": "3b2914c1-03e1-4426-c5bf-f21765148976",
        "colab": {
          "base_uri": "https://localhost:8080/",
          "height": 1000
        }
      },
      "source": [
        "#fit model\n",
        "model.fit(X, y, epochs=200, verbose=1)"
      ],
      "execution_count": 11,
      "outputs": [
        {
          "output_type": "stream",
          "text": [
            "Epoch 1/200\n",
            "1/1 [==============================] - 0s 1ms/step - loss: 1108.2958\n",
            "Epoch 2/200\n",
            "1/1 [==============================] - 0s 3ms/step - loss: 11.1997\n",
            "Epoch 3/200\n",
            "1/1 [==============================] - 0s 1ms/step - loss: 492.0865\n",
            "Epoch 4/200\n",
            "1/1 [==============================] - 0s 1ms/step - loss: 491.4232\n",
            "Epoch 5/200\n",
            "1/1 [==============================] - 0s 1ms/step - loss: 210.1003\n",
            "Epoch 6/200\n",
            "1/1 [==============================] - 0s 2ms/step - loss: 25.9339\n",
            "Epoch 7/200\n",
            "1/1 [==============================] - 0s 978us/step - loss: 37.8878\n",
            "Epoch 8/200\n",
            "1/1 [==============================] - 0s 1ms/step - loss: 145.5512\n",
            "Epoch 9/200\n",
            "1/1 [==============================] - 0s 1ms/step - loss: 205.0401\n",
            "Epoch 10/200\n",
            "1/1 [==============================] - 0s 1ms/step - loss: 167.9985\n",
            "Epoch 11/200\n",
            "1/1 [==============================] - 0s 2ms/step - loss: 81.5956\n",
            "Epoch 12/200\n",
            "1/1 [==============================] - 0s 1ms/step - loss: 17.7341\n",
            "Epoch 13/200\n",
            "1/1 [==============================] - 0s 2ms/step - loss: 13.2203\n",
            "Epoch 14/200\n",
            "1/1 [==============================] - 0s 2ms/step - loss: 53.3029\n",
            "Epoch 15/200\n",
            "1/1 [==============================] - 0s 2ms/step - loss: 91.8855\n",
            "Epoch 16/200\n",
            "1/1 [==============================] - 0s 2ms/step - loss: 94.8711\n",
            "Epoch 17/200\n",
            "1/1 [==============================] - 0s 2ms/step - loss: 63.7237\n",
            "Epoch 18/200\n",
            "1/1 [==============================] - 0s 2ms/step - loss: 25.1991\n",
            "Epoch 19/200\n",
            "1/1 [==============================] - 0s 2ms/step - loss: 6.4379\n",
            "Epoch 20/200\n",
            "1/1 [==============================] - 0s 2ms/step - loss: 15.3104\n",
            "Epoch 21/200\n",
            "1/1 [==============================] - 0s 2ms/step - loss: 37.5353\n",
            "Epoch 22/200\n",
            "1/1 [==============================] - 0s 2ms/step - loss: 51.4100\n",
            "Epoch 23/200\n",
            "1/1 [==============================] - 0s 2ms/step - loss: 45.9381\n",
            "Epoch 24/200\n",
            "1/1 [==============================] - 0s 2ms/step - loss: 26.9896\n",
            "Epoch 25/200\n",
            "1/1 [==============================] - 0s 2ms/step - loss: 9.8148\n",
            "Epoch 26/200\n",
            "1/1 [==============================] - 0s 2ms/step - loss: 5.9160\n",
            "Epoch 27/200\n",
            "1/1 [==============================] - 0s 2ms/step - loss: 14.6236\n",
            "Epoch 28/200\n",
            "1/1 [==============================] - 0s 2ms/step - loss: 25.5973\n",
            "Epoch 29/200\n",
            "1/1 [==============================] - 0s 2ms/step - loss: 28.5886\n",
            "Epoch 30/200\n",
            "1/1 [==============================] - 0s 2ms/step - loss: 21.5431\n",
            "Epoch 31/200\n",
            "1/1 [==============================] - 0s 2ms/step - loss: 10.8756\n",
            "Epoch 32/200\n",
            "1/1 [==============================] - 0s 3ms/step - loss: 4.9364\n",
            "Epoch 33/200\n",
            "1/1 [==============================] - 0s 2ms/step - loss: 6.9414\n",
            "Epoch 34/200\n",
            "1/1 [==============================] - 0s 3ms/step - loss: 13.1187\n",
            "Epoch 35/200\n",
            "1/1 [==============================] - 0s 3ms/step - loss: 16.8941\n",
            "Epoch 36/200\n",
            "1/1 [==============================] - 0s 2ms/step - loss: 14.8870\n",
            "Epoch 37/200\n",
            "1/1 [==============================] - 0s 3ms/step - loss: 9.1862\n",
            "Epoch 38/200\n",
            "1/1 [==============================] - 0s 3ms/step - loss: 4.7413\n",
            "Epoch 39/200\n",
            "1/1 [==============================] - 0s 2ms/step - loss: 4.6535\n",
            "Epoch 40/200\n",
            "1/1 [==============================] - 0s 2ms/step - loss: 7.7806\n",
            "Epoch 41/200\n",
            "1/1 [==============================] - 0s 2ms/step - loss: 10.3906\n",
            "Epoch 42/200\n",
            "1/1 [==============================] - 0s 2ms/step - loss: 9.8737\n",
            "Epoch 43/200\n",
            "1/1 [==============================] - 0s 1ms/step - loss: 6.8677\n",
            "Epoch 44/200\n",
            "1/1 [==============================] - 0s 3ms/step - loss: 4.1843\n",
            "Epoch 45/200\n",
            "1/1 [==============================] - 0s 2ms/step - loss: 3.8652\n",
            "Epoch 46/200\n",
            "1/1 [==============================] - 0s 2ms/step - loss: 5.5093\n",
            "Epoch 47/200\n",
            "1/1 [==============================] - 0s 1ms/step - loss: 6.9994\n",
            "Epoch 48/200\n",
            "1/1 [==============================] - 0s 2ms/step - loss: 6.7361\n",
            "Epoch 49/200\n",
            "1/1 [==============================] - 0s 2ms/step - loss: 5.0258\n",
            "Epoch 50/200\n",
            "1/1 [==============================] - 0s 5ms/step - loss: 3.4867\n",
            "Epoch 51/200\n",
            "1/1 [==============================] - 0s 2ms/step - loss: 3.3355\n",
            "Epoch 52/200\n",
            "1/1 [==============================] - 0s 4ms/step - loss: 4.2799\n",
            "Epoch 53/200\n",
            "1/1 [==============================] - 0s 2ms/step - loss: 5.0331\n",
            "Epoch 54/200\n",
            "1/1 [==============================] - 0s 2ms/step - loss: 4.7215\n",
            "Epoch 55/200\n",
            "1/1 [==============================] - 0s 3ms/step - loss: 3.6768\n",
            "Epoch 56/200\n",
            "1/1 [==============================] - 0s 2ms/step - loss: 2.9159\n",
            "Epoch 57/200\n",
            "1/1 [==============================] - 0s 2ms/step - loss: 3.0135\n",
            "Epoch 58/200\n",
            "1/1 [==============================] - 0s 2ms/step - loss: 3.5964\n",
            "Epoch 59/200\n",
            "1/1 [==============================] - 0s 1ms/step - loss: 3.8715\n",
            "Epoch 60/200\n",
            "1/1 [==============================] - 0s 1ms/step - loss: 3.5038\n",
            "Epoch 61/200\n",
            "1/1 [==============================] - 0s 2ms/step - loss: 2.8754\n",
            "Epoch 62/200\n",
            "1/1 [==============================] - 0s 1ms/step - loss: 2.5815\n",
            "Epoch 63/200\n",
            "1/1 [==============================] - 0s 2ms/step - loss: 2.7759\n",
            "Epoch 64/200\n",
            "1/1 [==============================] - 0s 4ms/step - loss: 3.0795\n",
            "Epoch 65/200\n",
            "1/1 [==============================] - 0s 2ms/step - loss: 3.0662\n",
            "Epoch 66/200\n",
            "1/1 [==============================] - 0s 2ms/step - loss: 2.7250\n",
            "Epoch 67/200\n",
            "1/1 [==============================] - 0s 4ms/step - loss: 2.4017\n",
            "Epoch 68/200\n",
            "1/1 [==============================] - 0s 3ms/step - loss: 2.3681\n",
            "Epoch 69/200\n",
            "1/1 [==============================] - 0s 2ms/step - loss: 2.5375\n",
            "Epoch 70/200\n",
            "1/1 [==============================] - 0s 3ms/step - loss: 2.6235\n",
            "Epoch 71/200\n",
            "1/1 [==============================] - 0s 2ms/step - loss: 2.4808\n",
            "Epoch 72/200\n",
            "1/1 [==============================] - 0s 1ms/step - loss: 2.2455\n",
            "Epoch 73/200\n",
            "1/1 [==============================] - 0s 2ms/step - loss: 2.1365\n",
            "Epoch 74/200\n",
            "1/1 [==============================] - 0s 1ms/step - loss: 2.1956\n",
            "Epoch 75/200\n",
            "1/1 [==============================] - 0s 3ms/step - loss: 2.2698\n",
            "Epoch 76/200\n",
            "1/1 [==============================] - 0s 4ms/step - loss: 2.2177\n",
            "Epoch 77/200\n",
            "1/1 [==============================] - 0s 1ms/step - loss: 2.0677\n",
            "Epoch 78/200\n",
            "1/1 [==============================] - 0s 3ms/step - loss: 1.9579\n",
            "Epoch 79/200\n",
            "1/1 [==============================] - 0s 1ms/step - loss: 1.9581\n",
            "Epoch 80/200\n",
            "1/1 [==============================] - 0s 1ms/step - loss: 1.9998\n",
            "Epoch 81/200\n",
            "1/1 [==============================] - 0s 3ms/step - loss: 1.9805\n",
            "Epoch 82/200\n",
            "1/1 [==============================] - 0s 3ms/step - loss: 1.8910\n",
            "Epoch 83/200\n",
            "1/1 [==============================] - 0s 1ms/step - loss: 1.8064\n",
            "Epoch 84/200\n",
            "1/1 [==============================] - 0s 1ms/step - loss: 1.7853\n",
            "Epoch 85/200\n",
            "1/1 [==============================] - 0s 2ms/step - loss: 1.8025\n",
            "Epoch 86/200\n",
            "1/1 [==============================] - 0s 5ms/step - loss: 1.7924\n",
            "Epoch 87/200\n",
            "1/1 [==============================] - 0s 3ms/step - loss: 1.7350\n",
            "Epoch 88/200\n",
            "1/1 [==============================] - 0s 3ms/step - loss: 1.6722\n",
            "Epoch 89/200\n",
            "1/1 [==============================] - 0s 2ms/step - loss: 1.6462\n",
            "Epoch 90/200\n",
            "1/1 [==============================] - 0s 4ms/step - loss: 1.6475\n",
            "Epoch 91/200\n",
            "1/1 [==============================] - 0s 7ms/step - loss: 1.6363\n",
            "Epoch 92/200\n",
            "1/1 [==============================] - 0s 2ms/step - loss: 1.5962\n",
            "Epoch 93/200\n",
            "1/1 [==============================] - 0s 1ms/step - loss: 1.5505\n",
            "Epoch 94/200\n",
            "1/1 [==============================] - 0s 3ms/step - loss: 1.5263\n",
            "Epoch 95/200\n",
            "1/1 [==============================] - 0s 3ms/step - loss: 1.5197\n",
            "Epoch 96/200\n",
            "1/1 [==============================] - 0s 3ms/step - loss: 1.5058\n",
            "Epoch 97/200\n",
            "1/1 [==============================] - 0s 5ms/step - loss: 1.4736\n",
            "Epoch 98/200\n",
            "1/1 [==============================] - 0s 6ms/step - loss: 1.4378\n",
            "Epoch 99/200\n",
            "1/1 [==============================] - 0s 2ms/step - loss: 1.4153\n",
            "Epoch 100/200\n",
            "1/1 [==============================] - 0s 2ms/step - loss: 1.4034\n",
            "Epoch 101/200\n",
            "1/1 [==============================] - 0s 5ms/step - loss: 1.3866\n",
            "Epoch 102/200\n",
            "1/1 [==============================] - 0s 3ms/step - loss: 1.3587\n",
            "Epoch 103/200\n",
            "1/1 [==============================] - 0s 2ms/step - loss: 1.3296\n",
            "Epoch 104/200\n",
            "1/1 [==============================] - 0s 2ms/step - loss: 1.3094\n",
            "Epoch 105/200\n",
            "1/1 [==============================] - 0s 2ms/step - loss: 1.2963\n",
            "Epoch 106/200\n",
            "1/1 [==============================] - 0s 1ms/step - loss: 1.2790\n",
            "Epoch 107/200\n",
            "1/1 [==============================] - 0s 2ms/step - loss: 1.2552\n",
            "Epoch 108/200\n",
            "1/1 [==============================] - 0s 2ms/step - loss: 1.2320\n",
            "Epoch 109/200\n",
            "1/1 [==============================] - 0s 2ms/step - loss: 1.2149\n",
            "Epoch 110/200\n",
            "1/1 [==============================] - 0s 2ms/step - loss: 1.2007\n",
            "Epoch 111/200\n",
            "1/1 [==============================] - 0s 2ms/step - loss: 1.1836\n",
            "Epoch 112/200\n",
            "1/1 [==============================] - 0s 2ms/step - loss: 1.1628\n",
            "Epoch 113/200\n",
            "1/1 [==============================] - 0s 1ms/step - loss: 1.1434\n",
            "Epoch 114/200\n",
            "1/1 [==============================] - 0s 3ms/step - loss: 1.1276\n",
            "Epoch 115/200\n",
            "1/1 [==============================] - 0s 2ms/step - loss: 1.1130\n",
            "Epoch 116/200\n",
            "1/1 [==============================] - 0s 1ms/step - loss: 1.0958\n",
            "Epoch 117/200\n",
            "1/1 [==============================] - 0s 2ms/step - loss: 1.0777\n",
            "Epoch 118/200\n",
            "1/1 [==============================] - 0s 3ms/step - loss: 1.0613\n",
            "Epoch 119/200\n",
            "1/1 [==============================] - 0s 2ms/step - loss: 1.0468\n",
            "Epoch 120/200\n",
            "1/1 [==============================] - 0s 1ms/step - loss: 1.0319\n",
            "Epoch 121/200\n",
            "1/1 [==============================] - 0s 3ms/step - loss: 1.0156\n",
            "Epoch 122/200\n",
            "1/1 [==============================] - 0s 2ms/step - loss: 0.9992\n",
            "Epoch 123/200\n",
            "1/1 [==============================] - 0s 2ms/step - loss: 0.9844\n",
            "Epoch 124/200\n",
            "1/1 [==============================] - 0s 3ms/step - loss: 0.9707\n",
            "Epoch 125/200\n",
            "1/1 [==============================] - 0s 1ms/step - loss: 0.9567\n",
            "Epoch 126/200\n",
            "1/1 [==============================] - 0s 2ms/step - loss: 0.9421\n",
            "Epoch 127/200\n",
            "1/1 [==============================] - 0s 2ms/step - loss: 0.9280\n",
            "Epoch 128/200\n",
            "1/1 [==============================] - 0s 2ms/step - loss: 0.9149\n",
            "Epoch 129/200\n",
            "1/1 [==============================] - 0s 4ms/step - loss: 0.9018\n",
            "Epoch 130/200\n",
            "1/1 [==============================] - 0s 1ms/step - loss: 0.8882\n",
            "Epoch 131/200\n",
            "1/1 [==============================] - 0s 2ms/step - loss: 0.8746\n",
            "Epoch 132/200\n",
            "1/1 [==============================] - 0s 2ms/step - loss: 0.8616\n",
            "Epoch 133/200\n",
            "1/1 [==============================] - 0s 2ms/step - loss: 0.8491\n",
            "Epoch 134/200\n",
            "1/1 [==============================] - 0s 2ms/step - loss: 0.8368\n",
            "Epoch 135/200\n",
            "1/1 [==============================] - 0s 2ms/step - loss: 0.8242\n",
            "Epoch 136/200\n",
            "1/1 [==============================] - 0s 2ms/step - loss: 0.8120\n",
            "Epoch 137/200\n",
            "1/1 [==============================] - 0s 2ms/step - loss: 0.8003\n",
            "Epoch 138/200\n",
            "1/1 [==============================] - 0s 1ms/step - loss: 0.7889\n",
            "Epoch 139/200\n",
            "1/1 [==============================] - 0s 2ms/step - loss: 0.7772\n",
            "Epoch 140/200\n",
            "1/1 [==============================] - 0s 2ms/step - loss: 0.7657\n",
            "Epoch 141/200\n",
            "1/1 [==============================] - 0s 2ms/step - loss: 0.7545\n",
            "Epoch 142/200\n",
            "1/1 [==============================] - 0s 1ms/step - loss: 0.7437\n",
            "Epoch 143/200\n",
            "1/1 [==============================] - 0s 1ms/step - loss: 0.7329\n",
            "Epoch 144/200\n",
            "1/1 [==============================] - 0s 1ms/step - loss: 0.7221\n",
            "Epoch 145/200\n",
            "1/1 [==============================] - 0s 2ms/step - loss: 0.7115\n",
            "Epoch 146/200\n",
            "1/1 [==============================] - 0s 1ms/step - loss: 0.7013\n",
            "Epoch 147/200\n",
            "1/1 [==============================] - 0s 2ms/step - loss: 0.6912\n",
            "Epoch 148/200\n",
            "1/1 [==============================] - 0s 2ms/step - loss: 0.6811\n",
            "Epoch 149/200\n",
            "1/1 [==============================] - 0s 2ms/step - loss: 0.6712\n",
            "Epoch 150/200\n",
            "1/1 [==============================] - 0s 2ms/step - loss: 0.6615\n",
            "Epoch 151/200\n",
            "1/1 [==============================] - 0s 2ms/step - loss: 0.6520\n",
            "Epoch 152/200\n",
            "1/1 [==============================] - 0s 3ms/step - loss: 0.6427\n",
            "Epoch 153/200\n",
            "1/1 [==============================] - 0s 992us/step - loss: 0.6335\n",
            "Epoch 154/200\n",
            "1/1 [==============================] - 0s 1ms/step - loss: 0.6244\n",
            "Epoch 155/200\n",
            "1/1 [==============================] - 0s 3ms/step - loss: 0.6155\n",
            "Epoch 156/200\n",
            "1/1 [==============================] - 0s 7ms/step - loss: 0.6066\n",
            "Epoch 157/200\n",
            "1/1 [==============================] - 0s 1ms/step - loss: 0.5979\n",
            "Epoch 158/200\n",
            "1/1 [==============================] - 0s 1ms/step - loss: 0.5894\n",
            "Epoch 159/200\n",
            "1/1 [==============================] - 0s 5ms/step - loss: 0.5811\n",
            "Epoch 160/200\n",
            "1/1 [==============================] - 0s 4ms/step - loss: 0.5728\n",
            "Epoch 161/200\n",
            "1/1 [==============================] - 0s 3ms/step - loss: 0.5647\n",
            "Epoch 162/200\n",
            "1/1 [==============================] - 0s 6ms/step - loss: 0.5567\n",
            "Epoch 163/200\n",
            "1/1 [==============================] - 0s 2ms/step - loss: 0.5488\n",
            "Epoch 164/200\n",
            "1/1 [==============================] - 0s 1ms/step - loss: 0.5411\n",
            "Epoch 165/200\n",
            "1/1 [==============================] - 0s 2ms/step - loss: 0.5334\n",
            "Epoch 166/200\n",
            "1/1 [==============================] - 0s 3ms/step - loss: 0.5259\n",
            "Epoch 167/200\n",
            "1/1 [==============================] - 0s 2ms/step - loss: 0.5185\n",
            "Epoch 168/200\n",
            "1/1 [==============================] - 0s 1ms/step - loss: 0.5112\n",
            "Epoch 169/200\n",
            "1/1 [==============================] - 0s 1ms/step - loss: 0.5042\n",
            "Epoch 170/200\n",
            "1/1 [==============================] - 0s 1ms/step - loss: 0.4972\n",
            "Epoch 171/200\n",
            "1/1 [==============================] - 0s 1ms/step - loss: 0.4903\n",
            "Epoch 172/200\n",
            "1/1 [==============================] - 0s 12ms/step - loss: 0.4836\n",
            "Epoch 173/200\n",
            "1/1 [==============================] - 0s 2ms/step - loss: 0.4769\n",
            "Epoch 174/200\n",
            "1/1 [==============================] - 0s 3ms/step - loss: 0.4704\n",
            "Epoch 175/200\n",
            "1/1 [==============================] - 0s 5ms/step - loss: 0.4640\n",
            "Epoch 176/200\n",
            "1/1 [==============================] - 0s 5ms/step - loss: 0.4576\n",
            "Epoch 177/200\n",
            "1/1 [==============================] - 0s 1ms/step - loss: 0.4514\n",
            "Epoch 178/200\n",
            "1/1 [==============================] - 0s 1ms/step - loss: 0.4452\n",
            "Epoch 179/200\n",
            "1/1 [==============================] - 0s 4ms/step - loss: 0.4392\n",
            "Epoch 180/200\n",
            "1/1 [==============================] - 0s 1ms/step - loss: 0.4332\n",
            "Epoch 181/200\n",
            "1/1 [==============================] - 0s 1ms/step - loss: 0.4274\n",
            "Epoch 182/200\n",
            "1/1 [==============================] - 0s 2ms/step - loss: 0.4216\n",
            "Epoch 183/200\n",
            "1/1 [==============================] - 0s 2ms/step - loss: 0.4159\n",
            "Epoch 184/200\n",
            "1/1 [==============================] - 0s 3ms/step - loss: 0.4104\n",
            "Epoch 185/200\n",
            "1/1 [==============================] - 0s 2ms/step - loss: 0.4049\n",
            "Epoch 186/200\n",
            "1/1 [==============================] - 0s 2ms/step - loss: 0.3995\n",
            "Epoch 187/200\n",
            "1/1 [==============================] - 0s 1ms/step - loss: 0.3943\n",
            "Epoch 188/200\n",
            "1/1 [==============================] - 0s 2ms/step - loss: 0.3891\n",
            "Epoch 189/200\n",
            "1/1 [==============================] - 0s 923us/step - loss: 0.3839\n",
            "Epoch 190/200\n",
            "1/1 [==============================] - 0s 2ms/step - loss: 0.3789\n",
            "Epoch 191/200\n",
            "1/1 [==============================] - 0s 1ms/step - loss: 0.3739\n",
            "Epoch 192/200\n",
            "1/1 [==============================] - 0s 1ms/step - loss: 0.3690\n",
            "Epoch 193/200\n",
            "1/1 [==============================] - 0s 1ms/step - loss: 0.3642\n",
            "Epoch 194/200\n",
            "1/1 [==============================] - 0s 4ms/step - loss: 0.3595\n",
            "Epoch 195/200\n",
            "1/1 [==============================] - 0s 3ms/step - loss: 0.3548\n",
            "Epoch 196/200\n",
            "1/1 [==============================] - 0s 1ms/step - loss: 0.3502\n",
            "Epoch 197/200\n",
            "1/1 [==============================] - 0s 3ms/step - loss: 0.3457\n",
            "Epoch 198/200\n",
            "1/1 [==============================] - 0s 3ms/step - loss: 0.3413\n",
            "Epoch 199/200\n",
            "1/1 [==============================] - 0s 2ms/step - loss: 0.3369\n",
            "Epoch 200/200\n",
            "1/1 [==============================] - 0s 1ms/step - loss: 0.3326\n"
          ],
          "name": "stdout"
        },
        {
          "output_type": "execute_result",
          "data": {
            "text/plain": [
              "<tensorflow.python.keras.callbacks.History at 0x7f778a0bcfd0>"
            ]
          },
          "metadata": {
            "tags": []
          },
          "execution_count": 11
        }
      ]
    },
    {
      "cell_type": "markdown",
      "metadata": {
        "id": "1EzGZMhBfJ5a"
      },
      "source": [
        "Prediction"
      ]
    },
    {
      "cell_type": "code",
      "metadata": {
        "id": "UNvJjW8nbQGv",
        "outputId": "40f33a73-b727-42ec-ba47-eda7876701f7",
        "colab": {
          "base_uri": "https://localhost:8080/",
          "height": 72
        }
      },
      "source": [
        "#prediction for 28th of October:\n",
        "x_input = np.array(raw_seq[1:366])\n",
        "x_input = x_input.reshape((1, n_steps))\n",
        "y_pred = model.predict(x_input, verbose=0)\n",
        "print(\"The predicted average temperature for 28th of October:\", y_pred)\n",
        "\n",
        "#prediction for 3th of November:\n",
        "x_input = np.array(raw_seq[1:366])\n",
        "x_input = x_input.reshape((1, n_steps))\n",
        "y_pred = model.predict(x_input, verbose=0)\n",
        "print(\"The predicted average temperature for 3th of November:\", y_pred)\n",
        "\n",
        "#prediction for 24th of November:\n",
        "x_input = np.array(raw_seq[1:366])\n",
        "x_input = x_input.reshape((1, n_steps))\n",
        "y_pred = model.predict(x_input, verbose=0)\n",
        "print(\"The predicted average temperature for 24th of November:\", y_pred)"
      ],
      "execution_count": 12,
      "outputs": [
        {
          "output_type": "stream",
          "text": [
            "The predicted average temperature for 28th of October: [[15.25165]]\n",
            "The predicted average temperature for 3th of November: [[15.25165]]\n",
            "The predicted average temperature for 24th of November: [[15.25165]]\n"
          ],
          "name": "stdout"
        }
      ]
    }
  ]
}