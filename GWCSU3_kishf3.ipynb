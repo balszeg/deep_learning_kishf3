{
  "nbformat": 4,
  "nbformat_minor": 0,
  "metadata": {
    "colab": {
      "name": "GWCSU3_kishf3.ipynb",
      "provenance": [],
      "authorship_tag": "ABX9TyMYixEyhNfYcDb9byHGrQk6",
      "include_colab_link": true
    },
    "kernelspec": {
      "name": "python3",
      "display_name": "Python 3"
    },
    "accelerator": "GPU"
  },
  "cells": [
    {
      "cell_type": "markdown",
      "metadata": {
        "id": "view-in-github",
        "colab_type": "text"
      },
      "source": [
        "<a href=\"https://colab.research.google.com/github/balszeg/deep_learning_kishf3/blob/main/GWCSU3_kishf3.ipynb\" target=\"_parent\"><img src=\"https://colab.research.google.com/assets/colab-badge.svg\" alt=\"Open In Colab\"/></a>"
      ]
    },
    {
      "cell_type": "markdown",
      "metadata": {
        "id": "EMwH_1AtJ5qp"
      },
      "source": [
        "## Weather forecast for Budapest average temperature with MLP ##\n",
        "\n"
      ]
    },
    {
      "cell_type": "markdown",
      "metadata": {
        "id": "xw-RO5LOdTqc"
      },
      "source": [
        "Google Drive mounting"
      ]
    },
    {
      "cell_type": "code",
      "metadata": {
        "id": "_lX8ZoMy9MxI",
        "outputId": "a2dda500-9f9f-4bdf-a052-8c7c41dd23ce",
        "colab": {
          "base_uri": "https://localhost:8080/",
          "height": 35
        }
      },
      "source": [
        "from google.colab import drive\n",
        "#mounting the user's Google Drive, from where the program loads the input datas \n",
        "drive.mount('/content/drive')"
      ],
      "execution_count": 1,
      "outputs": [
        {
          "output_type": "stream",
          "text": [
            "Drive already mounted at /content/drive; to attempt to forcibly remount, call drive.mount(\"/content/drive\", force_remount=True).\n"
          ],
          "name": "stdout"
        }
      ]
    },
    {
      "cell_type": "code",
      "metadata": {
        "id": "0S71YpkMrXyR",
        "outputId": "876f0491-fd62-4405-92b9-a25b2aa3dbc7",
        "colab": {
          "base_uri": "https://localhost:8080/",
          "height": 35
        }
      },
      "source": [
        "#setting the path for the uploaded csv file(s)\n",
        "#highly recommended, that the user use the same directory structure, which stated here\n",
        "csv_path = \"content/drive/My Drive/datas\"\n",
        "%cd /content/drive/My\\ Drive/datas"
      ],
      "execution_count": 2,
      "outputs": [
        {
          "output_type": "stream",
          "text": [
            "/content/drive/My Drive/datas\n"
          ],
          "name": "stdout"
        }
      ]
    },
    {
      "cell_type": "code",
      "metadata": {
        "id": "EMBfC_FIlAjH"
      },
      "source": [
        "#importing in the necessary libraries\n",
        "import numpy as np\n",
        "import pandas as pd\n",
        "import matplotlib.pyplot as plt\n",
        "import tensorflow as tf\n",
        "import os\n",
        "import csv\n",
        "from tensorflow import keras\n",
        "from pandas import read_csv"
      ],
      "execution_count": 3,
      "outputs": []
    },
    {
      "cell_type": "markdown",
      "metadata": {
        "id": "MgRwpcXtayfE"
      },
      "source": [
        "Uploading the dataset"
      ]
    },
    {
      "cell_type": "code",
      "metadata": {
        "id": "xMWAMZKxKgfq"
      },
      "source": [
        "#reading the CSV file\n",
        "#important to note, if the user want to use an own dataset, it should be renamed \n",
        "dataframe = read_csv('data.csv', usecols=[0], engine='python')\n",
        "dataset = dataframe.values\n",
        "#converting multidimensional array to single dimension\n",
        "data = dataset.flatten()\n",
        "raw_seq = data.tolist()"
      ],
      "execution_count": 4,
      "outputs": []
    },
    {
      "cell_type": "markdown",
      "metadata": {
        "id": "N8GH6jBaa2hr"
      },
      "source": [
        "Defining function for dataset splitting"
      ]
    },
    {
      "cell_type": "code",
      "metadata": {
        "id": "VfnBuswHYq_I"
      },
      "source": [
        "#split a temperatures (considered as an univariate sequence) into samples\n",
        "def split_sequence(sequence, n_steps):\n",
        " X, Y = list(), list()\n",
        " for i in range(len(sequence)):\n",
        "  # find the end of this pattern\n",
        "  end_ix = i + n_steps\n",
        "  # check if we are beyond the sequence\n",
        "  if end_ix > len(sequence)-1:\n",
        "   break\n",
        "  #input and output samples\n",
        "  seq_x, seq_y = sequence[i:end_ix], sequence[end_ix]\n",
        "  X.append(seq_x)\n",
        "  Y.append(seq_y)\n",
        " return np.array(X), np.array(Y)"
      ],
      "execution_count": 6,
      "outputs": []
    },
    {
      "cell_type": "markdown",
      "metadata": {
        "id": "WqaaNY0fatGT"
      },
      "source": [
        "Building the model"
      ]
    },
    {
      "cell_type": "code",
      "metadata": {
        "id": "Z2tORU9FalNY"
      },
      "source": [
        "from keras.models import Sequential\n",
        "from keras.layers import Dense\n",
        "\n",
        "#choose a number of time steps\n",
        "n_steps = 3\n",
        "#split into samples\n",
        "X, Y = split_sequence(raw_seq, n_steps)\n",
        "#define model\n",
        "model = Sequential()\n",
        "model.add(Dense(300, activation='relu', input_dim=n_steps))\n",
        "model.add(Dense(1))\n",
        "model.compile(optimizer='adam', loss='mse')"
      ],
      "execution_count": 26,
      "outputs": []
    },
    {
      "cell_type": "markdown",
      "metadata": {
        "id": "7tdu2qMMda87"
      },
      "source": [
        "Fitting the model"
      ]
    },
    {
      "cell_type": "code",
      "metadata": {
        "id": "dCiPIuYnarl1",
        "outputId": "47963c00-ab4d-4bd5-9dd5-fce150662282",
        "colab": {
          "base_uri": "https://localhost:8080/",
          "height": 1000
        }
      },
      "source": [
        "#fit model\n",
        "model.fit(X, Y, epochs=200, verbose=1)"
      ],
      "execution_count": 27,
      "outputs": [
        {
          "output_type": "stream",
          "text": [
            "Epoch 1/200\n",
            "13/13 [==============================] - 0s 2ms/step - loss: 218.0984\n",
            "Epoch 2/200\n",
            "13/13 [==============================] - 0s 2ms/step - loss: 32.7211\n",
            "Epoch 3/200\n",
            "13/13 [==============================] - 0s 2ms/step - loss: 8.6206\n",
            "Epoch 4/200\n",
            "13/13 [==============================] - 0s 2ms/step - loss: 8.2865\n",
            "Epoch 5/200\n",
            "13/13 [==============================] - 0s 2ms/step - loss: 5.7610\n",
            "Epoch 6/200\n",
            "13/13 [==============================] - 0s 2ms/step - loss: 5.4283\n",
            "Epoch 7/200\n",
            "13/13 [==============================] - 0s 2ms/step - loss: 5.1815\n",
            "Epoch 8/200\n",
            "13/13 [==============================] - 0s 2ms/step - loss: 4.8619\n",
            "Epoch 9/200\n",
            "13/13 [==============================] - 0s 2ms/step - loss: 4.7504\n",
            "Epoch 10/200\n",
            "13/13 [==============================] - 0s 2ms/step - loss: 4.6537\n",
            "Epoch 11/200\n",
            "13/13 [==============================] - 0s 2ms/step - loss: 4.5951\n",
            "Epoch 12/200\n",
            "13/13 [==============================] - 0s 2ms/step - loss: 4.5260\n",
            "Epoch 13/200\n",
            "13/13 [==============================] - 0s 2ms/step - loss: 4.9240\n",
            "Epoch 14/200\n",
            "13/13 [==============================] - 0s 2ms/step - loss: 4.4875\n",
            "Epoch 15/200\n",
            "13/13 [==============================] - 0s 2ms/step - loss: 4.4006\n",
            "Epoch 16/200\n",
            "13/13 [==============================] - 0s 2ms/step - loss: 4.4823\n",
            "Epoch 17/200\n",
            "13/13 [==============================] - 0s 2ms/step - loss: 4.4478\n",
            "Epoch 18/200\n",
            "13/13 [==============================] - 0s 2ms/step - loss: 4.4589\n",
            "Epoch 19/200\n",
            "13/13 [==============================] - 0s 2ms/step - loss: 4.4063\n",
            "Epoch 20/200\n",
            "13/13 [==============================] - 0s 2ms/step - loss: 4.4296\n",
            "Epoch 21/200\n",
            "13/13 [==============================] - 0s 2ms/step - loss: 4.4018\n",
            "Epoch 22/200\n",
            "13/13 [==============================] - 0s 2ms/step - loss: 4.3333\n",
            "Epoch 23/200\n",
            "13/13 [==============================] - 0s 2ms/step - loss: 4.3045\n",
            "Epoch 24/200\n",
            "13/13 [==============================] - 0s 2ms/step - loss: 4.3039\n",
            "Epoch 25/200\n",
            "13/13 [==============================] - 0s 2ms/step - loss: 4.5239\n",
            "Epoch 26/200\n",
            "13/13 [==============================] - 0s 2ms/step - loss: 4.3727\n",
            "Epoch 27/200\n",
            "13/13 [==============================] - 0s 2ms/step - loss: 4.2790\n",
            "Epoch 28/200\n",
            "13/13 [==============================] - 0s 2ms/step - loss: 4.2761\n",
            "Epoch 29/200\n",
            "13/13 [==============================] - 0s 2ms/step - loss: 4.2618\n",
            "Epoch 30/200\n",
            "13/13 [==============================] - 0s 2ms/step - loss: 4.2572\n",
            "Epoch 31/200\n",
            "13/13 [==============================] - 0s 2ms/step - loss: 4.2374\n",
            "Epoch 32/200\n",
            "13/13 [==============================] - 0s 2ms/step - loss: 4.2565\n",
            "Epoch 33/200\n",
            "13/13 [==============================] - 0s 2ms/step - loss: 4.2579\n",
            "Epoch 34/200\n",
            "13/13 [==============================] - 0s 2ms/step - loss: 4.2019\n",
            "Epoch 35/200\n",
            "13/13 [==============================] - 0s 2ms/step - loss: 4.3414\n",
            "Epoch 36/200\n",
            "13/13 [==============================] - 0s 2ms/step - loss: 4.2493\n",
            "Epoch 37/200\n",
            "13/13 [==============================] - 0s 2ms/step - loss: 4.2209\n",
            "Epoch 38/200\n",
            "13/13 [==============================] - 0s 2ms/step - loss: 4.4131\n",
            "Epoch 39/200\n",
            "13/13 [==============================] - 0s 2ms/step - loss: 4.2638\n",
            "Epoch 40/200\n",
            "13/13 [==============================] - 0s 2ms/step - loss: 4.2463\n",
            "Epoch 41/200\n",
            "13/13 [==============================] - 0s 2ms/step - loss: 4.2210\n",
            "Epoch 42/200\n",
            "13/13 [==============================] - 0s 2ms/step - loss: 4.2142\n",
            "Epoch 43/200\n",
            "13/13 [==============================] - 0s 2ms/step - loss: 4.2364\n",
            "Epoch 44/200\n",
            "13/13 [==============================] - 0s 2ms/step - loss: 4.1938\n",
            "Epoch 45/200\n",
            "13/13 [==============================] - 0s 2ms/step - loss: 4.2204\n",
            "Epoch 46/200\n",
            "13/13 [==============================] - 0s 2ms/step - loss: 4.3636\n",
            "Epoch 47/200\n",
            "13/13 [==============================] - 0s 2ms/step - loss: 4.2038\n",
            "Epoch 48/200\n",
            "13/13 [==============================] - 0s 2ms/step - loss: 4.2402\n",
            "Epoch 49/200\n",
            "13/13 [==============================] - 0s 2ms/step - loss: 4.4398\n",
            "Epoch 50/200\n",
            "13/13 [==============================] - 0s 2ms/step - loss: 4.2616\n",
            "Epoch 51/200\n",
            "13/13 [==============================] - 0s 2ms/step - loss: 4.1528\n",
            "Epoch 52/200\n",
            "13/13 [==============================] - 0s 2ms/step - loss: 4.2235\n",
            "Epoch 53/200\n",
            "13/13 [==============================] - 0s 2ms/step - loss: 4.1204\n",
            "Epoch 54/200\n",
            "13/13 [==============================] - 0s 2ms/step - loss: 4.4438\n",
            "Epoch 55/200\n",
            "13/13 [==============================] - 0s 2ms/step - loss: 4.4294\n",
            "Epoch 56/200\n",
            "13/13 [==============================] - 0s 2ms/step - loss: 4.1773\n",
            "Epoch 57/200\n",
            "13/13 [==============================] - 0s 2ms/step - loss: 4.2471\n",
            "Epoch 58/200\n",
            "13/13 [==============================] - 0s 2ms/step - loss: 4.1422\n",
            "Epoch 59/200\n",
            "13/13 [==============================] - 0s 2ms/step - loss: 4.1505\n",
            "Epoch 60/200\n",
            "13/13 [==============================] - 0s 2ms/step - loss: 4.4004\n",
            "Epoch 61/200\n",
            "13/13 [==============================] - 0s 2ms/step - loss: 4.1419\n",
            "Epoch 62/200\n",
            "13/13 [==============================] - 0s 2ms/step - loss: 4.1439\n",
            "Epoch 63/200\n",
            "13/13 [==============================] - 0s 2ms/step - loss: 4.1560\n",
            "Epoch 64/200\n",
            "13/13 [==============================] - 0s 2ms/step - loss: 4.3601\n",
            "Epoch 65/200\n",
            "13/13 [==============================] - 0s 2ms/step - loss: 4.5059\n",
            "Epoch 66/200\n",
            "13/13 [==============================] - 0s 2ms/step - loss: 4.3789\n",
            "Epoch 67/200\n",
            "13/13 [==============================] - 0s 2ms/step - loss: 4.2035\n",
            "Epoch 68/200\n",
            "13/13 [==============================] - 0s 2ms/step - loss: 4.2538\n",
            "Epoch 69/200\n",
            "13/13 [==============================] - 0s 2ms/step - loss: 4.1878\n",
            "Epoch 70/200\n",
            "13/13 [==============================] - 0s 2ms/step - loss: 4.6136\n",
            "Epoch 71/200\n",
            "13/13 [==============================] - 0s 2ms/step - loss: 4.3491\n",
            "Epoch 72/200\n",
            "13/13 [==============================] - 0s 2ms/step - loss: 4.1484\n",
            "Epoch 73/200\n",
            "13/13 [==============================] - 0s 2ms/step - loss: 4.1424\n",
            "Epoch 74/200\n",
            "13/13 [==============================] - 0s 2ms/step - loss: 4.2081\n",
            "Epoch 75/200\n",
            "13/13 [==============================] - 0s 2ms/step - loss: 4.0986\n",
            "Epoch 76/200\n",
            "13/13 [==============================] - 0s 2ms/step - loss: 5.1563\n",
            "Epoch 77/200\n",
            "13/13 [==============================] - 0s 2ms/step - loss: 4.2544\n",
            "Epoch 78/200\n",
            "13/13 [==============================] - 0s 2ms/step - loss: 4.1402\n",
            "Epoch 79/200\n",
            "13/13 [==============================] - 0s 2ms/step - loss: 4.1568\n",
            "Epoch 80/200\n",
            "13/13 [==============================] - 0s 3ms/step - loss: 4.1764\n",
            "Epoch 81/200\n",
            "13/13 [==============================] - 0s 2ms/step - loss: 4.1188\n",
            "Epoch 82/200\n",
            "13/13 [==============================] - 0s 2ms/step - loss: 4.2156\n",
            "Epoch 83/200\n",
            "13/13 [==============================] - 0s 2ms/step - loss: 4.5746\n",
            "Epoch 84/200\n",
            "13/13 [==============================] - 0s 2ms/step - loss: 4.1979\n",
            "Epoch 85/200\n",
            "13/13 [==============================] - 0s 2ms/step - loss: 4.0910\n",
            "Epoch 86/200\n",
            "13/13 [==============================] - 0s 2ms/step - loss: 4.0939\n",
            "Epoch 87/200\n",
            "13/13 [==============================] - 0s 2ms/step - loss: 4.0995\n",
            "Epoch 88/200\n",
            "13/13 [==============================] - 0s 2ms/step - loss: 4.1254\n",
            "Epoch 89/200\n",
            "13/13 [==============================] - 0s 2ms/step - loss: 4.1967\n",
            "Epoch 90/200\n",
            "13/13 [==============================] - 0s 2ms/step - loss: 4.0813\n",
            "Epoch 91/200\n",
            "13/13 [==============================] - 0s 2ms/step - loss: 4.1281\n",
            "Epoch 92/200\n",
            "13/13 [==============================] - 0s 2ms/step - loss: 4.1406\n",
            "Epoch 93/200\n",
            "13/13 [==============================] - 0s 2ms/step - loss: 4.0565\n",
            "Epoch 94/200\n",
            "13/13 [==============================] - 0s 2ms/step - loss: 4.2560\n",
            "Epoch 95/200\n",
            "13/13 [==============================] - 0s 2ms/step - loss: 4.1620\n",
            "Epoch 96/200\n",
            "13/13 [==============================] - 0s 2ms/step - loss: 4.1313\n",
            "Epoch 97/200\n",
            "13/13 [==============================] - 0s 2ms/step - loss: 4.1289\n",
            "Epoch 98/200\n",
            "13/13 [==============================] - 0s 2ms/step - loss: 4.2365\n",
            "Epoch 99/200\n",
            "13/13 [==============================] - 0s 2ms/step - loss: 4.1577\n",
            "Epoch 100/200\n",
            "13/13 [==============================] - 0s 2ms/step - loss: 4.2796\n",
            "Epoch 101/200\n",
            "13/13 [==============================] - 0s 2ms/step - loss: 4.5242\n",
            "Epoch 102/200\n",
            "13/13 [==============================] - 0s 3ms/step - loss: 4.2853\n",
            "Epoch 103/200\n",
            "13/13 [==============================] - 0s 2ms/step - loss: 4.2520\n",
            "Epoch 104/200\n",
            "13/13 [==============================] - 0s 2ms/step - loss: 4.0834\n",
            "Epoch 105/200\n",
            "13/13 [==============================] - 0s 2ms/step - loss: 4.0886\n",
            "Epoch 106/200\n",
            "13/13 [==============================] - 0s 2ms/step - loss: 4.1551\n",
            "Epoch 107/200\n",
            "13/13 [==============================] - 0s 2ms/step - loss: 4.2083\n",
            "Epoch 108/200\n",
            "13/13 [==============================] - 0s 2ms/step - loss: 4.2609\n",
            "Epoch 109/200\n",
            "13/13 [==============================] - 0s 2ms/step - loss: 4.3974\n",
            "Epoch 110/200\n",
            "13/13 [==============================] - 0s 2ms/step - loss: 4.1167\n",
            "Epoch 111/200\n",
            "13/13 [==============================] - 0s 2ms/step - loss: 4.1131\n",
            "Epoch 112/200\n",
            "13/13 [==============================] - 0s 2ms/step - loss: 4.2494\n",
            "Epoch 113/200\n",
            "13/13 [==============================] - 0s 2ms/step - loss: 4.2291\n",
            "Epoch 114/200\n",
            "13/13 [==============================] - 0s 2ms/step - loss: 4.3424\n",
            "Epoch 115/200\n",
            "13/13 [==============================] - 0s 2ms/step - loss: 4.2017\n",
            "Epoch 116/200\n",
            "13/13 [==============================] - 0s 2ms/step - loss: 4.6805\n",
            "Epoch 117/200\n",
            "13/13 [==============================] - 0s 2ms/step - loss: 4.2113\n",
            "Epoch 118/200\n",
            "13/13 [==============================] - 0s 2ms/step - loss: 4.5631\n",
            "Epoch 119/200\n",
            "13/13 [==============================] - 0s 2ms/step - loss: 5.2020\n",
            "Epoch 120/200\n",
            "13/13 [==============================] - 0s 2ms/step - loss: 4.3994\n",
            "Epoch 121/200\n",
            "13/13 [==============================] - 0s 2ms/step - loss: 4.3732\n",
            "Epoch 122/200\n",
            "13/13 [==============================] - 0s 2ms/step - loss: 4.2142\n",
            "Epoch 123/200\n",
            "13/13 [==============================] - 0s 2ms/step - loss: 4.4934\n",
            "Epoch 124/200\n",
            "13/13 [==============================] - 0s 2ms/step - loss: 4.2562\n",
            "Epoch 125/200\n",
            "13/13 [==============================] - 0s 2ms/step - loss: 4.1303\n",
            "Epoch 126/200\n",
            "13/13 [==============================] - 0s 2ms/step - loss: 4.0971\n",
            "Epoch 127/200\n",
            "13/13 [==============================] - 0s 2ms/step - loss: 4.2559\n",
            "Epoch 128/200\n",
            "13/13 [==============================] - 0s 2ms/step - loss: 4.0567\n",
            "Epoch 129/200\n",
            "13/13 [==============================] - 0s 2ms/step - loss: 4.0612\n",
            "Epoch 130/200\n",
            "13/13 [==============================] - 0s 2ms/step - loss: 4.2679\n",
            "Epoch 131/200\n",
            "13/13 [==============================] - 0s 2ms/step - loss: 4.0641\n",
            "Epoch 132/200\n",
            "13/13 [==============================] - 0s 2ms/step - loss: 4.0862\n",
            "Epoch 133/200\n",
            "13/13 [==============================] - 0s 2ms/step - loss: 4.1002\n",
            "Epoch 134/200\n",
            "13/13 [==============================] - 0s 2ms/step - loss: 4.1683\n",
            "Epoch 135/200\n",
            "13/13 [==============================] - 0s 2ms/step - loss: 4.2277\n",
            "Epoch 136/200\n",
            "13/13 [==============================] - 0s 2ms/step - loss: 4.0980\n",
            "Epoch 137/200\n",
            "13/13 [==============================] - 0s 2ms/step - loss: 4.1535\n",
            "Epoch 138/200\n",
            "13/13 [==============================] - 0s 2ms/step - loss: 4.1790\n",
            "Epoch 139/200\n",
            "13/13 [==============================] - 0s 2ms/step - loss: 4.0742\n",
            "Epoch 140/200\n",
            "13/13 [==============================] - 0s 2ms/step - loss: 4.0606\n",
            "Epoch 141/200\n",
            "13/13 [==============================] - 0s 2ms/step - loss: 4.1308\n",
            "Epoch 142/200\n",
            "13/13 [==============================] - 0s 2ms/step - loss: 5.2340\n",
            "Epoch 143/200\n",
            "13/13 [==============================] - 0s 2ms/step - loss: 4.5200\n",
            "Epoch 144/200\n",
            "13/13 [==============================] - 0s 2ms/step - loss: 4.4114\n",
            "Epoch 145/200\n",
            "13/13 [==============================] - 0s 2ms/step - loss: 4.3345\n",
            "Epoch 146/200\n",
            "13/13 [==============================] - 0s 2ms/step - loss: 4.2355\n",
            "Epoch 147/200\n",
            "13/13 [==============================] - 0s 2ms/step - loss: 4.1726\n",
            "Epoch 148/200\n",
            "13/13 [==============================] - 0s 2ms/step - loss: 4.1662\n",
            "Epoch 149/200\n",
            "13/13 [==============================] - 0s 2ms/step - loss: 4.1713\n",
            "Epoch 150/200\n",
            "13/13 [==============================] - 0s 2ms/step - loss: 4.0572\n",
            "Epoch 151/200\n",
            "13/13 [==============================] - 0s 2ms/step - loss: 4.4605\n",
            "Epoch 152/200\n",
            "13/13 [==============================] - 0s 2ms/step - loss: 4.1447\n",
            "Epoch 153/200\n",
            "13/13 [==============================] - 0s 2ms/step - loss: 4.2400\n",
            "Epoch 154/200\n",
            "13/13 [==============================] - 0s 2ms/step - loss: 4.0893\n",
            "Epoch 155/200\n",
            "13/13 [==============================] - 0s 2ms/step - loss: 4.1944\n",
            "Epoch 156/200\n",
            "13/13 [==============================] - 0s 2ms/step - loss: 4.1543\n",
            "Epoch 157/200\n",
            "13/13 [==============================] - 0s 2ms/step - loss: 4.5059\n",
            "Epoch 158/200\n",
            "13/13 [==============================] - 0s 2ms/step - loss: 4.2600\n",
            "Epoch 159/200\n",
            "13/13 [==============================] - 0s 2ms/step - loss: 4.1324\n",
            "Epoch 160/200\n",
            "13/13 [==============================] - 0s 2ms/step - loss: 4.0410\n",
            "Epoch 161/200\n",
            "13/13 [==============================] - 0s 2ms/step - loss: 4.0574\n",
            "Epoch 162/200\n",
            "13/13 [==============================] - 0s 2ms/step - loss: 4.0771\n",
            "Epoch 163/200\n",
            "13/13 [==============================] - 0s 2ms/step - loss: 4.0912\n",
            "Epoch 164/200\n",
            "13/13 [==============================] - 0s 2ms/step - loss: 4.3782\n",
            "Epoch 165/200\n",
            "13/13 [==============================] - 0s 2ms/step - loss: 4.8823\n",
            "Epoch 166/200\n",
            "13/13 [==============================] - 0s 2ms/step - loss: 4.0839\n",
            "Epoch 167/200\n",
            "13/13 [==============================] - 0s 2ms/step - loss: 4.0736\n",
            "Epoch 168/200\n",
            "13/13 [==============================] - 0s 2ms/step - loss: 4.0276\n",
            "Epoch 169/200\n",
            "13/13 [==============================] - 0s 2ms/step - loss: 4.0527\n",
            "Epoch 170/200\n",
            "13/13 [==============================] - 0s 2ms/step - loss: 4.0682\n",
            "Epoch 171/200\n",
            "13/13 [==============================] - 0s 2ms/step - loss: 4.0470\n",
            "Epoch 172/200\n",
            "13/13 [==============================] - 0s 2ms/step - loss: 4.0336\n",
            "Epoch 173/200\n",
            "13/13 [==============================] - 0s 2ms/step - loss: 4.0795\n",
            "Epoch 174/200\n",
            "13/13 [==============================] - 0s 2ms/step - loss: 4.0366\n",
            "Epoch 175/200\n",
            "13/13 [==============================] - 0s 2ms/step - loss: 4.0189\n",
            "Epoch 176/200\n",
            "13/13 [==============================] - 0s 2ms/step - loss: 4.2548\n",
            "Epoch 177/200\n",
            "13/13 [==============================] - 0s 2ms/step - loss: 4.0220\n",
            "Epoch 178/200\n",
            "13/13 [==============================] - 0s 2ms/step - loss: 4.1116\n",
            "Epoch 179/200\n",
            "13/13 [==============================] - 0s 2ms/step - loss: 4.1165\n",
            "Epoch 180/200\n",
            "13/13 [==============================] - 0s 2ms/step - loss: 4.0662\n",
            "Epoch 181/200\n",
            "13/13 [==============================] - 0s 2ms/step - loss: 4.0618\n",
            "Epoch 182/200\n",
            "13/13 [==============================] - 0s 2ms/step - loss: 3.9918\n",
            "Epoch 183/200\n",
            "13/13 [==============================] - 0s 2ms/step - loss: 4.2832\n",
            "Epoch 184/200\n",
            "13/13 [==============================] - 0s 2ms/step - loss: 4.3655\n",
            "Epoch 185/200\n",
            "13/13 [==============================] - 0s 2ms/step - loss: 4.1575\n",
            "Epoch 186/200\n",
            "13/13 [==============================] - 0s 2ms/step - loss: 4.1066\n",
            "Epoch 187/200\n",
            "13/13 [==============================] - 0s 2ms/step - loss: 4.0950\n",
            "Epoch 188/200\n",
            "13/13 [==============================] - 0s 2ms/step - loss: 4.0496\n",
            "Epoch 189/200\n",
            "13/13 [==============================] - 0s 2ms/step - loss: 4.0648\n",
            "Epoch 190/200\n",
            "13/13 [==============================] - 0s 2ms/step - loss: 4.1197\n",
            "Epoch 191/200\n",
            "13/13 [==============================] - 0s 2ms/step - loss: 4.0743\n",
            "Epoch 192/200\n",
            "13/13 [==============================] - 0s 2ms/step - loss: 4.2329\n",
            "Epoch 193/200\n",
            "13/13 [==============================] - 0s 2ms/step - loss: 4.1075\n",
            "Epoch 194/200\n",
            "13/13 [==============================] - 0s 2ms/step - loss: 4.1069\n",
            "Epoch 195/200\n",
            "13/13 [==============================] - 0s 2ms/step - loss: 4.3554\n",
            "Epoch 196/200\n",
            "13/13 [==============================] - 0s 2ms/step - loss: 4.0931\n",
            "Epoch 197/200\n",
            "13/13 [==============================] - 0s 2ms/step - loss: 4.2091\n",
            "Epoch 198/200\n",
            "13/13 [==============================] - 0s 2ms/step - loss: 4.2767\n",
            "Epoch 199/200\n",
            "13/13 [==============================] - 0s 2ms/step - loss: 4.4443\n",
            "Epoch 200/200\n",
            "13/13 [==============================] - 0s 2ms/step - loss: 4.0232\n"
          ],
          "name": "stdout"
        },
        {
          "output_type": "execute_result",
          "data": {
            "text/plain": [
              "<tensorflow.python.keras.callbacks.History at 0x7f777824af28>"
            ]
          },
          "metadata": {
            "tags": []
          },
          "execution_count": 27
        }
      ]
    },
    {
      "cell_type": "markdown",
      "metadata": {
        "id": "1EzGZMhBfJ5a"
      },
      "source": [
        "Prediction"
      ]
    },
    {
      "cell_type": "code",
      "metadata": {
        "id": "UNvJjW8nbQGv",
        "outputId": "c7d8f823-a73c-4b96-a3e7-e0ff92b6993d",
        "colab": {
          "base_uri": "https://localhost:8080/",
          "height": 72
        }
      },
      "source": [
        "#prediction for 28th of October:\n",
        "x_input = np.array(raw_seq[27:30])\n",
        "x_input = x_input.reshape((1, n_steps))\n",
        "y_pred = model.predict(x_input, verbose=0)\n",
        "print(\"The predicted average temperature for 28th of October:\", y_pred)\n",
        "\n",
        "#prediction for 3th of November:\n",
        "x_input = np.array(raw_seq[34:37])\n",
        "x_input = x_input.reshape((1, n_steps))\n",
        "y_pred = model.predict(x_input, verbose=0)\n",
        "print(\"The predicted average temperature for 3th of November:\", y_pred)\n",
        "\n",
        "#prediction for 24th of November:\n",
        "x_input = np.array(raw_seq[55:58])\n",
        "x_input = x_input.reshape((1, n_steps))\n",
        "y_pred = model.predict(x_input, verbose=0)\n",
        "print(\"The predicted average temperature for 24th of November:\", y_pred)"
      ],
      "execution_count": 32,
      "outputs": [
        {
          "output_type": "stream",
          "text": [
            "The predicted average temperature for 28th of October: [[11.002498]]\n",
            "The predicted average temperature for 3th of November: [[11.643503]]\n",
            "The predicted average temperature for 24th of November: [[8.00916]]\n"
          ],
          "name": "stdout"
        }
      ]
    }
  ]
}